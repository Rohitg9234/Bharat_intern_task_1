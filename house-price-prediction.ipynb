{
 "cells": [
  {
   "cell_type": "code",
   "execution_count": null,
   "metadata": {
    "_cell_guid": "b1076dfc-b9ad-4769-8c92-a6c4dae69d19",
    "_uuid": "8f2839f25d086af736a60e9eeb907d3b93b6e0e5",
    "execution": {
     "iopub.execute_input": "2022-01-07T14:42:49.152088Z",
     "iopub.status.busy": "2022-01-07T14:42:49.151639Z",
     "iopub.status.idle": "2022-01-07T14:42:49.159445Z",
     "shell.execute_reply": "2022-01-07T14:42:49.158845Z",
     "shell.execute_reply.started": "2022-01-07T14:42:49.152057Z"
    }
   },
   "outputs": [],
   "source": [
    "import numpy as np\n",
    "import pandas as pd\n",
    "import seaborn as sns\n",
    "import matplotlib.pyplot as plt\n",
    "import warnings\n",
    "warnings.filterwarnings(\"ignore\")\n",
    "\n",
    "from sklearn.model_selection import train_test_split, cross_val_score\n",
    "from sklearn.preprocessing import StandardScaler\n",
    "from sklearn.metrics import r2_score, mean_absolute_error, mean_squared_error\n",
    "\n",
    "from sklearn.linear_model import LinearRegression\n",
    "from sklearn.linear_model import Ridge\n",
    "from sklearn.linear_model import Lasso\n",
    "from sklearn.linear_model import ElasticNet\n",
    "from sklearn.ensemble import RandomForestRegressor\n",
    "from sklearn.svm import SVR\n",
    "from xgboost import XGBRegressor\n",
    "from sklearn.preprocessing import PolynomialFeatures"
   ]
  },
  {
   "cell_type": "code",
   "execution_count": null,
   "metadata": {
    "execution": {
     "iopub.execute_input": "2022-01-07T14:42:49.186208Z",
     "iopub.status.busy": "2022-01-07T14:42:49.185796Z",
     "iopub.status.idle": "2022-01-07T14:42:49.215332Z",
     "shell.execute_reply": "2022-01-07T14:42:49.214435Z",
     "shell.execute_reply.started": "2022-01-07T14:42:49.186163Z"
    }
   },
   "outputs": [],
   "source": [
    "df = pd.read_csv(\"../input/house-prices-advanced-regression-techniques/train.csv\")"
   ]
  },
  {
   "cell_type": "markdown",
   "metadata": {},
   "source": [
    "***Taking a look at the first 5 rows of the dataset***"
   ]
  },
  {
   "cell_type": "code",
   "execution_count": null,
   "metadata": {
    "execution": {
     "iopub.execute_input": "2022-01-07T14:42:49.217132Z",
     "iopub.status.busy": "2022-01-07T14:42:49.216905Z",
     "iopub.status.idle": "2022-01-07T14:42:49.24394Z",
     "shell.execute_reply": "2022-01-07T14:42:49.243233Z",
     "shell.execute_reply.started": "2022-01-07T14:42:49.217104Z"
    }
   },
   "outputs": [],
   "source": [
    "df.head()"
   ]
  },
  {
   "cell_type": "markdown",
   "metadata": {},
   "source": [
    "***Checking the shape—i.e. size—of the data***"
   ]
  },
  {
   "cell_type": "code",
   "execution_count": null,
   "metadata": {
    "execution": {
     "iopub.execute_input": "2022-01-07T14:42:49.245211Z",
     "iopub.status.busy": "2022-01-07T14:42:49.244952Z",
     "iopub.status.idle": "2022-01-07T14:42:49.259271Z",
     "shell.execute_reply": "2022-01-07T14:42:49.258241Z",
     "shell.execute_reply.started": "2022-01-07T14:42:49.24517Z"
    }
   },
   "outputs": [],
   "source": [
    "df.shape"
   ]
  },
  {
   "cell_type": "markdown",
   "metadata": {},
   "source": [
    "***Learning the dtypes of columns' and how many non-null values are there in those columns***"
   ]
  },
  {
   "cell_type": "code",
   "execution_count": null,
   "metadata": {
    "execution": {
     "iopub.execute_input": "2022-01-07T14:42:49.261295Z",
     "iopub.status.busy": "2022-01-07T14:42:49.26104Z",
     "iopub.status.idle": "2022-01-07T14:42:49.291699Z",
     "shell.execute_reply": "2022-01-07T14:42:49.290886Z",
     "shell.execute_reply.started": "2022-01-07T14:42:49.261264Z"
    }
   },
   "outputs": [],
   "source": [
    "df.info()"
   ]
  },
  {
   "cell_type": "markdown",
   "metadata": {},
   "source": [
    "***Getting the statistical summary of dataset***"
   ]
  },
  {
   "cell_type": "code",
   "execution_count": null,
   "metadata": {
    "execution": {
     "iopub.execute_input": "2022-01-07T14:42:49.293111Z",
     "iopub.status.busy": "2022-01-07T14:42:49.292878Z",
     "iopub.status.idle": "2022-01-07T14:42:49.403189Z",
     "shell.execute_reply": "2022-01-07T14:42:49.402321Z",
     "shell.execute_reply.started": "2022-01-07T14:42:49.293081Z"
    }
   },
   "outputs": [],
   "source": [
    "df.describe().T"
   ]
  },
  {
   "cell_type": "markdown",
   "metadata": {},
   "source": [
    "***Visualizing the correlations between numerical variables***"
   ]
  },
  {
   "cell_type": "code",
   "execution_count": null,
   "metadata": {
    "execution": {
     "iopub.execute_input": "2022-01-07T14:42:49.404476Z",
     "iopub.status.busy": "2022-01-07T14:42:49.404263Z",
     "iopub.status.idle": "2022-01-07T14:42:50.336586Z",
     "shell.execute_reply": "2022-01-07T14:42:50.335653Z",
     "shell.execute_reply.started": "2022-01-07T14:42:49.404451Z"
    }
   },
   "outputs": [],
   "source": [
    "plt.figure(figsize=(10,8))\n",
    "sns.heatmap(df.corr(), cmap=\"RdBu\")\n",
    "plt.title(\"Correlations Between Variables\", size=15)\n",
    "plt.show()"
   ]
  },
  {
   "cell_type": "markdown",
   "metadata": {},
   "source": [
    "***We are selecting numerical features which have more than 0.50 or less than -0.50 correlation rate based on Pearson Correlation Method—which is the default value of parameter \"method\" in corr() function. As for selecting categorical features, I selected the categorical values which I believe have significant effect on the target variable such as Heating and MSZoning.***"
   ]
  },
  {
   "cell_type": "code",
   "execution_count": null,
   "metadata": {
    "execution": {
     "iopub.execute_input": "2022-01-07T14:42:50.338051Z",
     "iopub.status.busy": "2022-01-07T14:42:50.337807Z",
     "iopub.status.idle": "2022-01-07T14:42:50.366469Z",
     "shell.execute_reply": "2022-01-07T14:42:50.365662Z",
     "shell.execute_reply.started": "2022-01-07T14:42:50.338019Z"
    }
   },
   "outputs": [],
   "source": [
    "important_num_cols = list(df.corr()[\"SalePrice\"][(df.corr()[\"SalePrice\"]>0.50) | (df.corr()[\"SalePrice\"]<-0.50)].index)\n",
    "cat_cols = [\"MSZoning\", \"Utilities\",\"BldgType\",\"Heating\",\"KitchenQual\",\"SaleCondition\",\"LandSlope\"]\n",
    "important_cols = important_num_cols + cat_cols\n",
    "\n",
    "df = df[important_cols]"
   ]
  },
  {
   "cell_type": "markdown",
   "metadata": {},
   "source": [
    "***Checking for the missing values***"
   ]
  },
  {
   "cell_type": "code",
   "execution_count": null,
   "metadata": {
    "execution": {
     "iopub.execute_input": "2022-01-07T14:42:50.367829Z",
     "iopub.status.busy": "2022-01-07T14:42:50.367614Z",
     "iopub.status.idle": "2022-01-07T14:42:50.380559Z",
     "shell.execute_reply": "2022-01-07T14:42:50.379637Z",
     "shell.execute_reply.started": "2022-01-07T14:42:50.367799Z"
    }
   },
   "outputs": [],
   "source": [
    "print(\"Missing Values by Column\")\n",
    "print(\"-\"*30)\n",
    "print(df.isna().sum())\n",
    "print(\"-\"*30)\n",
    "print(\"TOTAL MISSING VALUES:\",df.isna().sum().sum())"
   ]
  },
  {
   "cell_type": "markdown",
   "metadata": {},
   "source": [
    "<h1 style=\"font-family: 'Times New Roman'; letter-spacing: 0.08em;\">Data Visualization</h1>"
   ]
  },
  {
   "cell_type": "markdown",
   "metadata": {},
   "source": [
    "***Visualizing the Correlation between the numerical variables using pairplot visualization***"
   ]
  },
  {
   "cell_type": "code",
   "execution_count": null,
   "metadata": {
    "execution": {
     "iopub.execute_input": "2022-01-07T14:42:50.383174Z",
     "iopub.status.busy": "2022-01-07T14:42:50.382573Z",
     "iopub.status.idle": "2022-01-07T14:43:18.133961Z",
     "shell.execute_reply": "2022-01-07T14:43:18.133287Z",
     "shell.execute_reply.started": "2022-01-07T14:42:50.38312Z"
    }
   },
   "outputs": [],
   "source": [
    "sns.pairplot(df[important_num_cols])"
   ]
  },
  {
   "cell_type": "markdown",
   "metadata": {},
   "source": [
    "***Visualizing the Correlation between each column and the target variable using jointplot visualization***"
   ]
  },
  {
   "cell_type": "code",
   "execution_count": null,
   "metadata": {
    "execution": {
     "iopub.execute_input": "2022-01-07T14:43:18.135643Z",
     "iopub.status.busy": "2022-01-07T14:43:18.134945Z",
     "iopub.status.idle": "2022-01-07T14:43:34.570143Z",
     "shell.execute_reply": "2022-01-07T14:43:34.569207Z",
     "shell.execute_reply.started": "2022-01-07T14:43:18.135597Z"
    }
   },
   "outputs": [],
   "source": [
    "plt.figure(figsize=(10,8))\n",
    "sns.jointplot(x=df[\"OverallQual\"], y=df[\"SalePrice\"], kind=\"kde\")\n",
    "sns.jointplot(x=df[\"YearBuilt\"], y=df[\"SalePrice\"], kind=\"kde\")\n",
    "sns.jointplot(x=df[\"YearRemodAdd\"], y=df[\"SalePrice\"], kind=\"kde\")\n",
    "sns.jointplot(x=df[\"TotalBsmtSF\"], y=df[\"SalePrice\"], kind=\"kde\")\n",
    "sns.jointplot(x=df[\"1stFlrSF\"], y=df[\"SalePrice\"], kind=\"kde\")\n",
    "sns.jointplot(x=df[\"GrLivArea\"], y=df[\"SalePrice\"], kind=\"kde\")\n",
    "sns.jointplot(x=df[\"FullBath\"], y=df[\"SalePrice\"], kind=\"kde\")\n",
    "sns.jointplot(x=df[\"TotRmsAbvGrd\"], y=df[\"SalePrice\"], kind=\"kde\")\n",
    "sns.jointplot(x=df[\"GarageCars\"], y=df[\"SalePrice\"], kind=\"kde\")\n",
    "sns.jointplot(x=df[\"GarageArea\"], y=df[\"SalePrice\"], kind=\"kde\")\n",
    "plt.show()"
   ]
  },
  {
   "cell_type": "markdown",
   "metadata": {},
   "source": [
    "***Splitting the data into X and y chunks***"
   ]
  },
  {
   "cell_type": "code",
   "execution_count": null,
   "metadata": {
    "execution": {
     "iopub.execute_input": "2022-01-07T14:43:34.571727Z",
     "iopub.status.busy": "2022-01-07T14:43:34.57145Z",
     "iopub.status.idle": "2022-01-07T14:43:34.57769Z",
     "shell.execute_reply": "2022-01-07T14:43:34.577003Z",
     "shell.execute_reply.started": "2022-01-07T14:43:34.571687Z"
    }
   },
   "outputs": [],
   "source": [
    "X = df.drop(\"SalePrice\", axis=1)\n",
    "y = df[\"SalePrice\"]"
   ]
  },
  {
   "cell_type": "markdown",
   "metadata": {},
   "source": [
    "***Encoding the categorical features in X dataset by using One-Hot Encoding method***"
   ]
  },
  {
   "cell_type": "code",
   "execution_count": null,
   "metadata": {
    "execution": {
     "iopub.execute_input": "2022-01-07T14:43:34.578981Z",
     "iopub.status.busy": "2022-01-07T14:43:34.57876Z",
     "iopub.status.idle": "2022-01-07T14:43:34.59876Z",
     "shell.execute_reply": "2022-01-07T14:43:34.598001Z",
     "shell.execute_reply.started": "2022-01-07T14:43:34.578953Z"
    }
   },
   "outputs": [],
   "source": [
    "X = pd.get_dummies(X, columns=cat_cols)"
   ]
  },
  {
   "cell_type": "markdown",
   "metadata": {},
   "source": [
    "***Standardizing the numerical columns in X dataset. StandardScaler() adjusts the mean of the features as 0 and standard deviation of features as 1. Formula that StandardScaler() uses is as follows:***"
   ]
  },
  {
   "cell_type": "code",
   "execution_count": null,
   "metadata": {
    "execution": {
     "iopub.execute_input": "2022-01-07T14:43:34.601607Z",
     "iopub.status.busy": "2022-01-07T14:43:34.601352Z",
     "iopub.status.idle": "2022-01-07T14:43:34.614706Z",
     "shell.execute_reply": "2022-01-07T14:43:34.613746Z",
     "shell.execute_reply.started": "2022-01-07T14:43:34.601579Z"
    }
   },
   "outputs": [],
   "source": [
    "important_num_cols.remove(\"SalePrice\")\n",
    "\n",
    "scaler = StandardScaler()\n",
    "X[important_num_cols] = scaler.fit_transform(X[important_num_cols])"
   ]
  },
  {
   "cell_type": "markdown",
   "metadata": {},
   "source": [
    "***As you can see, standardization is done successfully***"
   ]
  },
  {
   "cell_type": "code",
   "execution_count": null,
   "metadata": {
    "execution": {
     "iopub.execute_input": "2022-01-07T14:43:34.616539Z",
     "iopub.status.busy": "2022-01-07T14:43:34.616Z",
     "iopub.status.idle": "2022-01-07T14:43:34.64119Z",
     "shell.execute_reply": "2022-01-07T14:43:34.640325Z",
     "shell.execute_reply.started": "2022-01-07T14:43:34.616498Z"
    }
   },
   "outputs": [],
   "source": [
    "X.head()"
   ]
  },
  {
   "cell_type": "markdown",
   "metadata": {},
   "source": [
    "***Splitting the data into Train and Test chunks for better evaluation***"
   ]
  },
  {
   "cell_type": "code",
   "execution_count": null,
   "metadata": {
    "execution": {
     "iopub.execute_input": "2022-01-07T14:43:34.643469Z",
     "iopub.status.busy": "2022-01-07T14:43:34.642571Z",
     "iopub.status.idle": "2022-01-07T14:43:34.651245Z",
     "shell.execute_reply": "2022-01-07T14:43:34.650638Z",
     "shell.execute_reply.started": "2022-01-07T14:43:34.643423Z"
    }
   },
   "outputs": [],
   "source": [
    "X_train, X_test, y_train, y_test = train_test_split(X, y, test_size=0.2, random_state=42)"
   ]
  },
  {
   "cell_type": "markdown",
   "metadata": {},
   "source": [
    "***Defining several evaluation functions for convenience***"
   ]
  },
  {
   "cell_type": "code",
   "execution_count": null,
   "metadata": {
    "execution": {
     "iopub.execute_input": "2022-01-07T14:43:34.65261Z",
     "iopub.status.busy": "2022-01-07T14:43:34.652374Z",
     "iopub.status.idle": "2022-01-07T14:43:34.66368Z",
     "shell.execute_reply": "2022-01-07T14:43:34.6628Z",
     "shell.execute_reply.started": "2022-01-07T14:43:34.652584Z"
    }
   },
   "outputs": [],
   "source": [
    "def rmse_cv(model):\n",
    "    rmse = np.sqrt(-cross_val_score(model, X, y, scoring=\"neg_mean_squared_error\", cv=5)).mean()\n",
    "    return rmse\n",
    "    \n",
    "\n",
    "def evaluation(y, predictions):\n",
    "    mae = mean_absolute_error(y, predictions)\n",
    "    mse = mean_squared_error(y, predictions)\n",
    "    rmse = np.sqrt(mean_squared_error(y, predictions))\n",
    "    r_squared = r2_score(y, predictions)\n",
    "    return mae, mse, rmse, r_squared"
   ]
  },
  {
   "cell_type": "code",
   "execution_count": null,
   "metadata": {
    "execution": {
     "iopub.execute_input": "2022-01-07T14:43:34.665472Z",
     "iopub.status.busy": "2022-01-07T14:43:34.665204Z",
     "iopub.status.idle": "2022-01-07T14:43:34.68131Z",
     "shell.execute_reply": "2022-01-07T14:43:34.680302Z",
     "shell.execute_reply.started": "2022-01-07T14:43:34.665439Z"
    }
   },
   "outputs": [],
   "source": [
    "models = pd.DataFrame(columns=[\"Model\",\"MAE\",\"MSE\",\"RMSE\",\"R2 Score\",\"RMSE (Cross-Validation)\"])"
   ]
  },
  {
   "cell_type": "markdown",
   "metadata": {},
   "source": [
    "<h2 style=\"font-family: 'Times New Roman'; letter-spacing: 0.05em;\">Linear Regression</h2>"
   ]
  },
  {
   "cell_type": "code",
   "execution_count": null,
   "metadata": {
    "execution": {
     "iopub.execute_input": "2022-01-07T14:43:34.682806Z",
     "iopub.status.busy": "2022-01-07T14:43:34.682562Z",
     "iopub.status.idle": "2022-01-07T14:43:34.779687Z",
     "shell.execute_reply": "2022-01-07T14:43:34.778719Z",
     "shell.execute_reply.started": "2022-01-07T14:43:34.682777Z"
    }
   },
   "outputs": [],
   "source": [
    "lin_reg = LinearRegression()\n",
    "lin_reg.fit(X_train, y_train)\n",
    "predictions = lin_reg.predict(X_test)\n",
    "\n",
    "mae, mse, rmse, r_squared = evaluation(y_test, predictions)\n",
    "print(\"MAE:\", mae)\n",
    "print(\"MSE:\", mse)\n",
    "print(\"RMSE:\", rmse)\n",
    "print(\"R2 Score:\", r_squared)\n",
    "print(\"-\"*30)\n",
    "rmse_cross_val = rmse_cv(lin_reg)\n",
    "print(\"RMSE Cross-Validation:\", rmse_cross_val)\n",
    "\n",
    "new_row = {\"Model\": \"LinearRegression\",\"MAE\": mae, \"MSE\": mse, \"RMSE\": rmse, \"R2 Score\": r_squared, \"RMSE (Cross-Validation)\": rmse_cross_val}\n",
    "models = models.append(new_row, ignore_index=True)"
   ]
  },
  {
   "cell_type": "markdown",
   "metadata": {},
   "source": [
    "<h2 style=\"font-family: 'Times New Roman'; letter-spacing: 0.05em;\">Ridge Regression</h2>"
   ]
  },
  {
   "cell_type": "code",
   "execution_count": null,
   "metadata": {
    "execution": {
     "iopub.execute_input": "2022-01-07T14:43:34.782262Z",
     "iopub.status.busy": "2022-01-07T14:43:34.78151Z",
     "iopub.status.idle": "2022-01-07T14:43:34.870893Z",
     "shell.execute_reply": "2022-01-07T14:43:34.869856Z",
     "shell.execute_reply.started": "2022-01-07T14:43:34.782205Z"
    }
   },
   "outputs": [],
   "source": [
    "ridge = Ridge()\n",
    "ridge.fit(X_train, y_train)\n",
    "predictions = ridge.predict(X_test)\n",
    "\n",
    "mae, mse, rmse, r_squared = evaluation(y_test, predictions)\n",
    "print(\"MAE:\", mae)\n",
    "print(\"MSE:\", mse)\n",
    "print(\"RMSE:\", rmse)\n",
    "print(\"R2 Score:\", r_squared)\n",
    "print(\"-\"*30)\n",
    "rmse_cross_val = rmse_cv(ridge)\n",
    "print(\"RMSE Cross-Validation:\", rmse_cross_val)\n",
    "\n",
    "new_row = {\"Model\": \"Ridge\",\"MAE\": mae, \"MSE\": mse, \"RMSE\": rmse, \"R2 Score\": r_squared, \"RMSE (Cross-Validation)\": rmse_cross_val}\n",
    "models = models.append(new_row, ignore_index=True)"
   ]
  },
  {
   "cell_type": "markdown",
   "metadata": {},
   "source": [
    "<h2 style=\"font-family: 'Times New Roman'; letter-spacing: 0.05em;\">Lasso Regression</h2>"
   ]
  },
  {
   "cell_type": "code",
   "execution_count": null,
   "metadata": {
    "execution": {
     "iopub.execute_input": "2022-01-07T14:43:34.8733Z",
     "iopub.status.busy": "2022-01-07T14:43:34.872724Z",
     "iopub.status.idle": "2022-01-07T14:43:35.158926Z",
     "shell.execute_reply": "2022-01-07T14:43:35.157992Z",
     "shell.execute_reply.started": "2022-01-07T14:43:34.873251Z"
    }
   },
   "outputs": [],
   "source": [
    "lasso = Lasso()\n",
    "lasso.fit(X_train, y_train)\n",
    "predictions = lasso.predict(X_test)\n",
    "\n",
    "mae, mse, rmse, r_squared = evaluation(y_test, predictions)\n",
    "print(\"MAE:\", mae)\n",
    "print(\"MSE:\", mse)\n",
    "print(\"RMSE:\", rmse)\n",
    "print(\"R2 Score:\", r_squared)\n",
    "print(\"-\"*30)\n",
    "rmse_cross_val = rmse_cv(lasso)\n",
    "print(\"RMSE Cross-Validation:\", rmse_cross_val)\n",
    "\n",
    "new_row = {\"Model\": \"Lasso\",\"MAE\": mae, \"MSE\": mse, \"RMSE\": rmse, \"R2 Score\": r_squared, \"RMSE (Cross-Validation)\": rmse_cross_val}\n",
    "models = models.append(new_row, ignore_index=True)"
   ]
  },
  {
   "cell_type": "markdown",
   "metadata": {},
   "source": [
    "<h2 style=\"font-family: 'Times New Roman'; letter-spacing: 0.05em;\">Elastic Net</h2>"
   ]
  },
  {
   "cell_type": "code",
   "execution_count": null,
   "metadata": {
    "execution": {
     "iopub.execute_input": "2022-01-07T14:43:35.170236Z",
     "iopub.status.busy": "2022-01-07T14:43:35.166883Z",
     "iopub.status.idle": "2022-01-07T14:43:35.26547Z",
     "shell.execute_reply": "2022-01-07T14:43:35.264476Z",
     "shell.execute_reply.started": "2022-01-07T14:43:35.170172Z"
    }
   },
   "outputs": [],
   "source": [
    "elastic_net = ElasticNet()\n",
    "elastic_net.fit(X_train, y_train)\n",
    "predictions = elastic_net.predict(X_test)\n",
    "\n",
    "mae, mse, rmse, r_squared = evaluation(y_test, predictions)\n",
    "print(\"MAE:\", mae)\n",
    "print(\"MSE:\", mse)\n",
    "print(\"RMSE:\", rmse)\n",
    "print(\"R2 Score:\", r_squared)\n",
    "print(\"-\"*30)\n",
    "rmse_cross_val = rmse_cv(elastic_net)\n",
    "print(\"RMSE Cross-Validation:\", rmse_cross_val)\n",
    "\n",
    "new_row = {\"Model\": \"ElasticNet\",\"MAE\": mae, \"MSE\": mse, \"RMSE\": rmse, \"R2 Score\": r_squared, \"RMSE (Cross-Validation)\": rmse_cross_val}\n",
    "models = models.append(new_row, ignore_index=True)"
   ]
  },
  {
   "cell_type": "markdown",
   "metadata": {},
   "source": [
    "<h2 style=\"font-family: 'Times New Roman'; letter-spacing: 0.05em;\">Support Vector Machines</h2>"
   ]
  },
  {
   "cell_type": "code",
   "execution_count": null,
   "metadata": {
    "execution": {
     "iopub.execute_input": "2022-01-07T14:43:35.272053Z",
     "iopub.status.busy": "2022-01-07T14:43:35.271234Z",
     "iopub.status.idle": "2022-01-07T14:43:37.359114Z",
     "shell.execute_reply": "2022-01-07T14:43:37.358258Z",
     "shell.execute_reply.started": "2022-01-07T14:43:35.271995Z"
    }
   },
   "outputs": [],
   "source": [
    "svr = SVR(C=100000)\n",
    "svr.fit(X_train, y_train)\n",
    "predictions = svr.predict(X_test)\n",
    "\n",
    "mae, mse, rmse, r_squared = evaluation(y_test, predictions)\n",
    "print(\"MAE:\", mae)\n",
    "print(\"MSE:\", mse)\n",
    "print(\"RMSE:\", rmse)\n",
    "print(\"R2 Score:\", r_squared)\n",
    "print(\"-\"*30)\n",
    "rmse_cross_val = rmse_cv(svr)\n",
    "print(\"RMSE Cross-Validation:\", rmse_cross_val)\n",
    "\n",
    "new_row = {\"Model\": \"SVR\",\"MAE\": mae, \"MSE\": mse, \"RMSE\": rmse, \"R2 Score\": r_squared, \"RMSE (Cross-Validation)\": rmse_cross_val}\n",
    "models = models.append(new_row, ignore_index=True)"
   ]
  },
  {
   "cell_type": "markdown",
   "metadata": {},
   "source": [
    "<h2 style=\"font-family: 'Times New Roman'; letter-spacing: 0.05em;\">Random Forest Regressor</h2>"
   ]
  },
  {
   "cell_type": "code",
   "execution_count": null,
   "metadata": {
    "execution": {
     "iopub.execute_input": "2022-01-07T14:43:37.360544Z",
     "iopub.status.busy": "2022-01-07T14:43:37.360272Z",
     "iopub.status.idle": "2022-01-07T14:43:42.468528Z",
     "shell.execute_reply": "2022-01-07T14:43:42.467601Z",
     "shell.execute_reply.started": "2022-01-07T14:43:37.360513Z"
    }
   },
   "outputs": [],
   "source": [
    "random_forest = RandomForestRegressor(n_estimators=100)\n",
    "random_forest.fit(X_train, y_train)\n",
    "predictions = random_forest.predict(X_test)\n",
    "\n",
    "mae, mse, rmse, r_squared = evaluation(y_test, predictions)\n",
    "print(\"MAE:\", mae)\n",
    "print(\"MSE:\", mse)\n",
    "print(\"RMSE:\", rmse)\n",
    "print(\"R2 Score:\", r_squared)\n",
    "print(\"-\"*30)\n",
    "rmse_cross_val = rmse_cv(random_forest)\n",
    "print(\"RMSE Cross-Validation:\", rmse_cross_val)\n",
    "\n",
    "new_row = {\"Model\": \"RandomForestRegressor\",\"MAE\": mae, \"MSE\": mse, \"RMSE\": rmse, \"R2 Score\": r_squared, \"RMSE (Cross-Validation)\": rmse_cross_val}\n",
    "models = models.append(new_row, ignore_index=True)"
   ]
  },
  {
   "cell_type": "markdown",
   "metadata": {},
   "source": [
    "<h2 style=\"font-family: 'Times New Roman'; letter-spacing: 0.05em;\">XGBoost Regressor</h2>"
   ]
  },
  {
   "cell_type": "code",
   "execution_count": null,
   "metadata": {
    "execution": {
     "iopub.execute_input": "2022-01-07T14:43:42.470222Z",
     "iopub.status.busy": "2022-01-07T14:43:42.469916Z",
     "iopub.status.idle": "2022-01-07T14:44:08.097545Z",
     "shell.execute_reply": "2022-01-07T14:44:08.096585Z",
     "shell.execute_reply.started": "2022-01-07T14:43:42.470179Z"
    }
   },
   "outputs": [],
   "source": [
    "xgb = XGBRegressor(n_estimators=1000, learning_rate=0.01)\n",
    "xgb.fit(X_train, y_train)\n",
    "predictions = xgb.predict(X_test)\n",
    "\n",
    "mae, mse, rmse, r_squared = evaluation(y_test, predictions)\n",
    "print(\"MAE:\", mae)\n",
    "print(\"MSE:\", mse)\n",
    "print(\"RMSE:\", rmse)\n",
    "print(\"R2 Score:\", r_squared)\n",
    "print(\"-\"*30)\n",
    "rmse_cross_val = rmse_cv(xgb)\n",
    "print(\"RMSE Cross-Validation:\", rmse_cross_val)\n",
    "\n",
    "new_row = {\"Model\": \"XGBRegressor\",\"MAE\": mae, \"MSE\": mse, \"RMSE\": rmse, \"R2 Score\": r_squared, \"RMSE (Cross-Validation)\": rmse_cross_val}\n",
    "models = models.append(new_row, ignore_index=True)"
   ]
  },
  {
   "cell_type": "markdown",
   "metadata": {},
   "source": [
    "<h2 style=\"font-family: 'Times New Roman'; letter-spacing: 0.05em;\">Polynomial Regression (Degree=2)</h2>"
   ]
  },
  {
   "cell_type": "code",
   "execution_count": null,
   "metadata": {
    "execution": {
     "iopub.execute_input": "2022-01-07T14:44:08.099433Z",
     "iopub.status.busy": "2022-01-07T14:44:08.098994Z",
     "iopub.status.idle": "2022-01-07T14:44:08.467015Z",
     "shell.execute_reply": "2022-01-07T14:44:08.466047Z",
     "shell.execute_reply.started": "2022-01-07T14:44:08.099364Z"
    }
   },
   "outputs": [],
   "source": [
    "poly_reg = PolynomialFeatures(degree=2)\n",
    "X_train_2d = poly_reg.fit_transform(X_train)\n",
    "X_test_2d = poly_reg.transform(X_test)\n",
    "\n",
    "lin_reg = LinearRegression()\n",
    "lin_reg.fit(X_train_2d, y_train)\n",
    "predictions = lin_reg.predict(X_test_2d)\n",
    "\n",
    "mae, mse, rmse, r_squared = evaluation(y_test, predictions)\n",
    "print(\"MAE:\", mae)\n",
    "print(\"MSE:\", mse)\n",
    "print(\"RMSE:\", rmse)\n",
    "print(\"R2 Score:\", r_squared)\n",
    "print(\"-\"*30)\n",
    "rmse_cross_val = rmse_cv(lin_reg)\n",
    "print(\"RMSE Cross-Validation:\", rmse_cross_val)\n",
    "\n",
    "new_row = {\"Model\": \"Polynomial Regression (degree=2)\",\"MAE\": mae, \"MSE\": mse, \"RMSE\": rmse, \"R2 Score\": r_squared, \"RMSE (Cross-Validation)\": rmse_cross_val}\n",
    "models = models.append(new_row, ignore_index=True)"
   ]
  },
  {
   "cell_type": "markdown",
   "metadata": {},
   "source": [
    "<h1 style=\"font-family: 'Times New Roman'; letter-spacing: 0.08em;\">Model Comparison</h1>"
   ]
  },
  {
   "cell_type": "markdown",
   "metadata": {},
   "source": [
    "***The less the Root Mean Squared Error (RMSE), The better the model is.***"
   ]
  },
  {
   "cell_type": "code",
   "execution_count": null,
   "metadata": {
    "execution": {
     "iopub.execute_input": "2022-01-07T14:44:08.469807Z",
     "iopub.status.busy": "2022-01-07T14:44:08.469051Z",
     "iopub.status.idle": "2022-01-07T14:44:08.49511Z",
     "shell.execute_reply": "2022-01-07T14:44:08.494138Z",
     "shell.execute_reply.started": "2022-01-07T14:44:08.469751Z"
    }
   },
   "outputs": [],
   "source": [
    "models.sort_values(by=\"RMSE (Cross-Validation)\")"
   ]
  },
  {
   "cell_type": "code",
   "execution_count": null,
   "metadata": {
    "execution": {
     "iopub.execute_input": "2022-01-07T14:44:08.498158Z",
     "iopub.status.busy": "2022-01-07T14:44:08.497301Z",
     "iopub.status.idle": "2022-01-07T14:44:08.808618Z",
     "shell.execute_reply": "2022-01-07T14:44:08.805053Z",
     "shell.execute_reply.started": "2022-01-07T14:44:08.498094Z"
    }
   },
   "outputs": [],
   "source": [
    "plt.figure(figsize=(12,8))\n",
    "sns.barplot(x=models[\"Model\"], y=models[\"RMSE (Cross-Validation)\"])\n",
    "plt.title(\"Models' RMSE Scores (Cross-Validated)\", size=15)\n",
    "plt.xticks(rotation=30, size=12)\n",
    "plt.show()"
   ]
  }
 ],
 "metadata": {
  "kernelspec": {
   "display_name": "Python 3 (ipykernel)",
   "language": "python",
   "name": "python3"
  },
  "language_info": {
   "codemirror_mode": {
    "name": "ipython",
    "version": 3
   },
   "file_extension": ".py",
   "mimetype": "text/x-python",
   "name": "python",
   "nbconvert_exporter": "python",
   "pygments_lexer": "ipython3",
   "version": "3.10.9"
  }
 },
 "nbformat": 4,
 "nbformat_minor": 4
}
